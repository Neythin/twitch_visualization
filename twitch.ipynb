{
 "cells": [
  {
   "cell_type": "code",
   "execution_count": 3,
   "metadata": {},
   "outputs": [],
   "source": [
    "import pandas as pd\n",
    "import re\n",
    "import requests\n",
    "from bs4 import BeautifulSoup as bs"
   ]
  },
  {
   "cell_type": "code",
   "execution_count": 8,
   "metadata": {},
   "outputs": [
    {
     "name": "stdout",
     "output_type": "stream",
     "text": [
      "<!DOCTYPE html>\n",
      "<html lang=\"en-US\">\n",
      " <head>\n",
      "  <title>\n",
      "   Just a moment...\n",
      "  </title>\n",
      "  <meta content=\"text/html; charset=utf-8\" http-equiv=\"Content-Type\"/>\n",
      "  <meta content=\"IE=Edge\" http-equiv=\"X-UA-Compatible\"/>\n",
      "  <meta content=\"noindex,nofollow\" name=\"robots\"/>\n",
      "  <meta content=\"width=device-width,initial-scale=1\" name=\"viewport\"/>\n",
      "  <link href=\"/cdn-cgi/styles/challenges.css\" rel=\"stylesheet\"/>\n",
      "  <meta content=\"375\" http-equiv=\"refresh\"/>\n",
      " </head>\n",
      " <body class=\"no-js\">\n",
      "  <div class=\"main-wrapper\" role=\"main\">\n",
      "   <div class=\"main-content\">\n",
      "    <noscript>\n",
      "     <div id=\"challenge-error-title\">\n",
      "      <div class=\"h2\">\n",
      "       <span class=\"icon-wrapper\">\n",
      "        <div class=\"heading-icon warning-icon\">\n",
      "        </div>\n",
      "       </span>\n",
      "       <span id=\"challenge-error-text\">\n",
      "        Enable JavaScript and cookies to continue\n",
      "       </span>\n",
      "      </div>\n",
      "     </div>\n",
      "    </noscript>\n",
      "   </div>\n",
      "  </div>\n",
      "  <script>\n",
      "   (function(){window._cf_chl_opt={cvId: '2',cZone: \"streamscharts.com\",cType: 'interactive',cNounce: '50400',cRay: '8263da647cf95f95',cHash: 'c4db4f2950d6017',cUPMDTk: \"\\/top-channels?__cf_chl_tk=Q_j6GggPo7AeqHXMyxNcqUYy4aXetDFD_yDJDMx8dhY-1700013128-0-gaNycGzNCbs\",cFPWv: 'g',cTTimeMs: '1000',cMTimeMs: '375000',cTplV: 5,cTplB: 'cf',cK: \"visitor-time\",fa: \"\\/top-channels?__cf_chl_f_tk=Q_j6GggPo7AeqHXMyxNcqUYy4aXetDFD_yDJDMx8dhY-1700013128-0-gaNycGzNCbs\",md: \"scyXQeOS16QUyMVIMAeFXO2JfIv5zM8nr_mY7k9sYiA-1700013128-0-AQPOjqdfR7L9D-mbj9rVijJoWMSu7zW_Xxeh4JxNxf0ZBQJP-McMJs5sQSa9JKqwCs9MvZRfOB3tiNnvjHrqty0lLap4U7ERQxtIK06XOzXSxlvhyqNamDwN2ZmFQKX3Bs4Q1c-7c6-P7IA-KXYXEpWjftwq5ll8YF_K2MvhLMHLZEmY5VJJQ2XCbBFv_BRBguU88lHSG9vdB-XhOgE5HJ5F_x5k16LQ34OwNDFFn0vO3IRUiGEqgO8EfKOcaVXdv5_0IyQnp0Pb9XKtr7Cv2rSbSnBaea88v9Earu1HQD9uklspTrHciyKj4Eciqpkn_MtzLgvDoKjRmMcZWqHH4qEPxRKpZR6n3tFQ_9MIWd0nk1gNrdmGdMaPTw7-ydJB3AsPDyo406VRgYAwHfoJu9n8-FH5wUKIEpjbFQ2nhOW4lbye6t87Z2MfmnwuyspS_NLQ5x7LdbtdGzZfdABRqx3xwep1IpioXC3-a1LUyV3vMQmiddq_HATa-O9UMlA3TckyH0j3ypJXuakRPuWwQ38s5eLlijlJHYJvg2t6zjyRLx5kxHMcL2BBQT7uardEBTG9waTB7btQb3Crb1kkjRa1ENODpSmIMCQzzNSAZTSFUDyqm2VL8AGKw_IRCVTraOc_z-N30WmhiBe0gXpP0PmkM4WqOZB9nGWbz9p0kDyRBe9sCDIA7tR1og9vO9ENM_JcTZvZS6SVnjPtzsy7gg2vn7semv7rC8rIS72Ot-b0Y3h52DQK4twyXBw6kD5H_e5ayMUois5ID-8E6EOTTsjruNGnp-FfwmFpg2j1EKq0Dlk8lSsPljrtQD-Qc0RHQg1e-4W9rWORc97JxFuvhE_SFXedR8SgefRzpwy2kWENyTY0HPw8yTMxMtmo0Vwv-ss8tR5K_f66ryks2fh1OwIkiRTBzA0TlcIButUq7t-pGl7PY650T-TePDcAW5Eb0S25Rf9oHz_ltBDOrlDP9W0UMm6s16jh53f6GyFS1RM-58tAopXaV0LZwTURtAdAzFszBs4DRY7k0l44Q61dfiZY6LK9NK2bYo0UqS7-ZGvJpMsQFOIGDIOxndOMPLtXV1GmHyHGOU8DvqaWlLQyusxiFX0c06fI5QIgslirgAssG-legHTbqxPgXG22ImwmUPIJXPZkTwc5QSDewd7RNg9beR798PXxjrKrUqYA2EKPci-nvPRZTs7y7JJvjWz01WAtvG6Wk9kaqlKuFCZkP3hK_V42yxqqSGiJ1sro54B8sYWKQurM4YWfSWo-JH0PM3OSlnroBrIZ_UERYyWuMX-dgg64gW2-hZmQbHwsZYVIr9ykVzpaBmPB4rDzZHWKvVqCNXJQpG-I-YHZoTKgzmaUHQ8WIPPOb5_epUV0-oNCGcKh6_tyMAcbms3YdWL2fBjpCP-0aYEgKngzFioTOvZ7kqpG1mVfxjhHkysHvVGgZ-G5XHCBMiHZLprDa7J7oGTSNnwM9YrrIlRxmv3UK58lFKw_4RFciX5SYvdqYxon88NkvldILIlCuRqmaZQTq9cZnI5R6sY7BOr0w_e-1NreXVft1JoEcKxgiYbtoiKQ7-pDYqLbggJzGGw6X3IJkXQu_iGN9aL8coovp1cdjJoXqzPWBRIDrhzxBB1fcaautwarqKESmGhqjDhWnluxuDGqTKMoAKIxnmECZLHyrzbfEvUcMvV8IZAJmrzWmhl9CPF2gVDXvsUJ1WeoIhBminLMbjglcXUXJXQdXGUgpSI3MTJUUfGvInF3aFNt6nkGoIVQgFDntIoT7nW3_6NIYzEJEgy7qTn0_au_9hD_jfH6VrgEQDLnGUbWLCvqJ5v5cohtmWhCFufSvbKNGKr7KSd1pJ8mQ9MqCbtR263j5WfRvAsJANDR1db_-Rzqefl1kjfhntbts0Altjq8vYrY4qVsWOX7w7WlZhWIqlIFeRsexseNBq_r9eLU-6CeOdvJMmUGTsuiH5BlsIG8mFl0fnZUpSNmYtkejjOSW9rETriL2CT8kdGrPOP6taFkHk1jk2-mtCzHwZucX8Wgkat1VdmBF8apEPYMIftqBEqye10-NJ5xVHEIh9k7ANMTr-eabE-6R15lI6vp3iuja67Cof36z6jh3sVTPgUHc5Os-a6TgeMBESYq4mrrg04EynP7wtwaDa6mZQxCp0fAtkUSAl14EjENzL14pZYFxlclbsaYLBI_ZgYvuGf72TXui20gSjppYNGaddGbJe2vJtRcPuekv_cok5t-VaRMmIwR358e9TrfvjMgz1ZCURWekUFjpxvH94fLorlAz3PsJAy5QGNqsetfhVonS0B7kdvogGhnOZjW0NDd692Dt-fYMQAL-iDz_MkUGZ4uwaQomjfbOhexHzEKeb7eo3Q3Eu0r4mjI95VK3PA_EByk9PVv1u3gEoGCLlO5lHDjxynHSZsNwg\",cRq: {ru: 'aHR0cHM6Ly9zdHJlYW1zY2hhcnRzLmNvbS90b3AtY2hhbm5lbHM=',ra: 'cHl0aG9uLXJlcXVlc3RzLzIuMzEuMA==',rm: 'R0VU',d: '+ZZRxphiM2qtUsFBE9nF44PZ/XUWCg057WLbUGXuAfVXznYR+kbjtH+vCMq6hfTv9xXwsFU6316P1hB+DZV49fA8BK1HjqRfgsm7tQLW2mNQNj2CQqEyDo18EVTE6oT/RFArJQRj2r3YaeJTuFoicUhMIYrVrSb6ayGuBDtDM4npttTG/eVvCpdSwj0JyuIFbWYyXbnLFWyMB0NBE1HAEVUWUHZV7lHz1f0MNrUndktr3LU5hQOZSHX/jv00S76SaHT4PvFAMPea00sKuLzeoZJy+eTHewa9pCOgFTORLZCEAS71PhfJnGDniF6Ie8tWYmDeSghqmAJ//A8np3qYxCMrSYvMInBhZBfcBLpIt5F+2IvjrkZBcfzWyD0iqhbje1Tk3da1tSEhNFCkXEceKZamqrbmFiuynLUL6o8KXnKYAAHhEgXosz/IZnDGxhbDACTPobqgr/E/XVDpVpVpyDOErDATsFTy0H+ymZE16Uj6mCqCCp8RrcL5Wn8wbQ9ex/4M2QBAODJxMEyplZIEJULDCvBIpZ+N/v6EwUMyUT7f/VmjdFNoHWbTmj/uyk61qyzAyJN7tVTXPP6HVuBHgOvWMat9iA94vbVw9q+TPaI=',t: 'MTcwMDAxMzEyOC4zOTQwMDA=',cT: Math.floor(Date.now() / 1000),m: '5HKvv9ycvlUwWQ8D0G1RFy/RHPJ2y+XYeSS9FuRNY90=',i1: 'l6fc0i4j0d0oALo0Gy0p/Q==',i2: 'L9wqFhUf5UYRXIvd1EwCfg==',zh: 'jcom+rzwUC+lh6LwHCU9YGAXgWOyl7Ln2OpckeBCRwE=',uh: 'YE9XOpG5TeHmhA1zfs5mxC8CrRZzq2a/+r+OU7dliYQ=',hh: 'TvWaAEqG2Yq7skwExEeGp0gpE7o9H2w6LUab46Qx8xk=',}};var cpo = document.createElement('script');cpo.src = '/cdn-cgi/challenge-platform/h/g/orchestrate/chl_page/v1?ray=8263da647cf95f95';window._cf_chl_opt.cOgUHash = location.hash === '' && location.href.indexOf('#') !== -1 ? '#' : location.hash;window._cf_chl_opt.cOgUQuery = location.search === '' && location.href.slice(0, location.href.length - window._cf_chl_opt.cOgUHash.length).indexOf('?') !== -1 ? '?' : location.search;if (window.history && window.history.replaceState) {var ogU = location.pathname + window._cf_chl_opt.cOgUQuery + window._cf_chl_opt.cOgUHash;history.replaceState(null, null, \"\\/top-channels?__cf_chl_rt_tk=Q_j6GggPo7AeqHXMyxNcqUYy4aXetDFD_yDJDMx8dhY-1700013128-0-gaNycGzNCbs\" + window._cf_chl_opt.cOgUHash);cpo.onload = function() {history.replaceState(null, null, ogU);}}document.getElementsByTagName('head')[0].appendChild(cpo);}());\n",
      "  </script>\n",
      " </body>\n",
      "</html>\n",
      "\n"
     ]
    }
   ],
   "source": [
    "r = requests.get(\"https://streamscharts.com/top-channels\")\n",
    "\n",
    "webpage = bs(r.content)\n",
    "print(webpage.prettify())"
   ]
  },
  {
   "cell_type": "code",
   "execution_count": 9,
   "metadata": {},
   "outputs": [
    {
     "ename": "NotImplementedError",
     "evalue": "':min-w-max' pseudo-class is not implemented at this time",
     "output_type": "error",
     "traceback": [
      "\u001b[0;31m---------------------------------------------------------------------------\u001b[0m",
      "\u001b[0;31mNotImplementedError\u001b[0m                       Traceback (most recent call last)",
      "\u001b[0;32m/var/folders/xs/6bjv64ld193dwks_v023rpk80000gn/T/ipykernel_1686/2404363204.py\u001b[0m in \u001b[0;36m<module>\u001b[0;34m\u001b[0m\n\u001b[0;32m----> 1\u001b[0;31m \u001b[0mtable\u001b[0m \u001b[0;34m=\u001b[0m \u001b[0mwebpage\u001b[0m\u001b[0;34m.\u001b[0m\u001b[0mselect\u001b[0m\u001b[0;34m(\u001b[0m\u001b[0;34m\"table.md-max:min-w-max w-full bg-card text-secondary screen-content\"\u001b[0m\u001b[0;34m)\u001b[0m\u001b[0;34m\u001b[0m\u001b[0;34m\u001b[0m\u001b[0m\n\u001b[0m\u001b[1;32m      2\u001b[0m \u001b[0mcolumns\u001b[0m \u001b[0;34m=\u001b[0m \u001b[0mtable\u001b[0m\u001b[0;34m.\u001b[0m\u001b[0mfind\u001b[0m\u001b[0;34m(\u001b[0m\u001b[0;34m\"thead\"\u001b[0m\u001b[0;34m)\u001b[0m\u001b[0;34m.\u001b[0m\u001b[0mfind_all\u001b[0m\u001b[0;34m(\u001b[0m\u001b[0;34m\"th\"\u001b[0m\u001b[0;34m)\u001b[0m\u001b[0;34m\u001b[0m\u001b[0;34m\u001b[0m\u001b[0m\n\u001b[1;32m      3\u001b[0m \u001b[0mcolumn_names\u001b[0m \u001b[0;34m=\u001b[0m \u001b[0;34m[\u001b[0m\u001b[0mc\u001b[0m\u001b[0;34m.\u001b[0m\u001b[0mstring\u001b[0m \u001b[0;32mfor\u001b[0m \u001b[0mc\u001b[0m \u001b[0;32min\u001b[0m \u001b[0mcolumns\u001b[0m\u001b[0;34m]\u001b[0m\u001b[0;34m\u001b[0m\u001b[0;34m\u001b[0m\u001b[0m\n\u001b[1;32m      4\u001b[0m \u001b[0mtable_rows\u001b[0m \u001b[0;34m=\u001b[0m \u001b[0mtable\u001b[0m\u001b[0;34m.\u001b[0m\u001b[0mfind\u001b[0m\u001b[0;34m(\u001b[0m\u001b[0;34m\"tbody\"\u001b[0m\u001b[0;34m)\u001b[0m\u001b[0;34m.\u001b[0m\u001b[0mfind_all\u001b[0m\u001b[0;34m(\u001b[0m\u001b[0;34m\"tr\"\u001b[0m\u001b[0;34m)\u001b[0m\u001b[0;34m\u001b[0m\u001b[0;34m\u001b[0m\u001b[0m\n",
      "\u001b[0;32m/Library/Frameworks/Python.framework/Versions/3.9/lib/python3.9/site-packages/bs4/element.py\u001b[0m in \u001b[0;36mselect\u001b[0;34m(self, selector, namespaces, limit, **kwargs)\u001b[0m\n\u001b[1;32m   2109\u001b[0m         \u001b[0;34m:\u001b[0m\u001b[0mrtype\u001b[0m\u001b[0;34m:\u001b[0m \u001b[0mbs4\u001b[0m\u001b[0;34m.\u001b[0m\u001b[0melement\u001b[0m\u001b[0;34m.\u001b[0m\u001b[0mResultSet\u001b[0m\u001b[0;34m\u001b[0m\u001b[0;34m\u001b[0m\u001b[0m\n\u001b[1;32m   2110\u001b[0m         \"\"\"\n\u001b[0;32m-> 2111\u001b[0;31m         \u001b[0;32mreturn\u001b[0m \u001b[0mself\u001b[0m\u001b[0;34m.\u001b[0m\u001b[0mcss\u001b[0m\u001b[0;34m.\u001b[0m\u001b[0mselect\u001b[0m\u001b[0;34m(\u001b[0m\u001b[0mselector\u001b[0m\u001b[0;34m,\u001b[0m \u001b[0mnamespaces\u001b[0m\u001b[0;34m,\u001b[0m \u001b[0mlimit\u001b[0m\u001b[0;34m,\u001b[0m \u001b[0;34m**\u001b[0m\u001b[0mkwargs\u001b[0m\u001b[0;34m)\u001b[0m\u001b[0;34m\u001b[0m\u001b[0;34m\u001b[0m\u001b[0m\n\u001b[0m\u001b[1;32m   2112\u001b[0m \u001b[0;34m\u001b[0m\u001b[0m\n\u001b[1;32m   2113\u001b[0m     \u001b[0;34m@\u001b[0m\u001b[0mproperty\u001b[0m\u001b[0;34m\u001b[0m\u001b[0;34m\u001b[0m\u001b[0m\n",
      "\u001b[0;32m/Library/Frameworks/Python.framework/Versions/3.9/lib/python3.9/site-packages/bs4/css.py\u001b[0m in \u001b[0;36mselect\u001b[0;34m(self, select, namespaces, limit, flags, **kwargs)\u001b[0m\n\u001b[1;32m    160\u001b[0m \u001b[0;34m\u001b[0m\u001b[0m\n\u001b[1;32m    161\u001b[0m         return self._rs(\n\u001b[0;32m--> 162\u001b[0;31m             self.api.select(\n\u001b[0m\u001b[1;32m    163\u001b[0m                 \u001b[0mselect\u001b[0m\u001b[0;34m,\u001b[0m \u001b[0mself\u001b[0m\u001b[0;34m.\u001b[0m\u001b[0mtag\u001b[0m\u001b[0;34m,\u001b[0m \u001b[0mself\u001b[0m\u001b[0;34m.\u001b[0m\u001b[0m_ns\u001b[0m\u001b[0;34m(\u001b[0m\u001b[0mnamespaces\u001b[0m\u001b[0;34m,\u001b[0m \u001b[0mselect\u001b[0m\u001b[0;34m)\u001b[0m\u001b[0;34m,\u001b[0m \u001b[0mlimit\u001b[0m\u001b[0;34m,\u001b[0m \u001b[0mflags\u001b[0m\u001b[0;34m,\u001b[0m\u001b[0;34m\u001b[0m\u001b[0;34m\u001b[0m\u001b[0m\n\u001b[1;32m    164\u001b[0m                 \u001b[0;34m**\u001b[0m\u001b[0mkwargs\u001b[0m\u001b[0;34m\u001b[0m\u001b[0;34m\u001b[0m\u001b[0m\n",
      "\u001b[0;32m/Library/Frameworks/Python.framework/Versions/3.9/lib/python3.9/site-packages/soupsieve/__init__.py\u001b[0m in \u001b[0;36mselect\u001b[0;34m(select, tag, namespaces, limit, flags, custom, **kwargs)\u001b[0m\n\u001b[1;32m    145\u001b[0m     \u001b[0;34m\"\"\"Select the specified tags.\"\"\"\u001b[0m\u001b[0;34m\u001b[0m\u001b[0;34m\u001b[0m\u001b[0m\n\u001b[1;32m    146\u001b[0m \u001b[0;34m\u001b[0m\u001b[0m\n\u001b[0;32m--> 147\u001b[0;31m     \u001b[0;32mreturn\u001b[0m \u001b[0mcompile\u001b[0m\u001b[0;34m(\u001b[0m\u001b[0mselect\u001b[0m\u001b[0;34m,\u001b[0m \u001b[0mnamespaces\u001b[0m\u001b[0;34m,\u001b[0m \u001b[0mflags\u001b[0m\u001b[0;34m,\u001b[0m \u001b[0;34m**\u001b[0m\u001b[0mkwargs\u001b[0m\u001b[0;34m)\u001b[0m\u001b[0;34m.\u001b[0m\u001b[0mselect\u001b[0m\u001b[0;34m(\u001b[0m\u001b[0mtag\u001b[0m\u001b[0;34m,\u001b[0m \u001b[0mlimit\u001b[0m\u001b[0;34m)\u001b[0m\u001b[0;34m\u001b[0m\u001b[0;34m\u001b[0m\u001b[0m\n\u001b[0m\u001b[1;32m    148\u001b[0m \u001b[0;34m\u001b[0m\u001b[0m\n\u001b[1;32m    149\u001b[0m \u001b[0;34m\u001b[0m\u001b[0m\n",
      "\u001b[0;32m/Library/Frameworks/Python.framework/Versions/3.9/lib/python3.9/site-packages/soupsieve/__init__.py\u001b[0m in \u001b[0;36mcompile\u001b[0;34m(pattern, namespaces, flags, custom, **kwargs)\u001b[0m\n\u001b[1;32m     63\u001b[0m         \u001b[0;32mreturn\u001b[0m \u001b[0mpattern\u001b[0m\u001b[0;34m\u001b[0m\u001b[0;34m\u001b[0m\u001b[0m\n\u001b[1;32m     64\u001b[0m \u001b[0;34m\u001b[0m\u001b[0m\n\u001b[0;32m---> 65\u001b[0;31m     return cp._cached_css_compile(\n\u001b[0m\u001b[1;32m     66\u001b[0m         \u001b[0mpattern\u001b[0m\u001b[0;34m,\u001b[0m\u001b[0;34m\u001b[0m\u001b[0;34m\u001b[0m\u001b[0m\n\u001b[1;32m     67\u001b[0m         \u001b[0mct\u001b[0m\u001b[0;34m.\u001b[0m\u001b[0mNamespaces\u001b[0m\u001b[0;34m(\u001b[0m\u001b[0mnamespaces\u001b[0m\u001b[0;34m)\u001b[0m \u001b[0;32mif\u001b[0m \u001b[0mnamespaces\u001b[0m \u001b[0;32mis\u001b[0m \u001b[0;32mnot\u001b[0m \u001b[0;32mNone\u001b[0m \u001b[0;32melse\u001b[0m \u001b[0mnamespaces\u001b[0m\u001b[0;34m,\u001b[0m\u001b[0;34m\u001b[0m\u001b[0;34m\u001b[0m\u001b[0m\n",
      "\u001b[0;32m/Library/Frameworks/Python.framework/Versions/3.9/lib/python3.9/site-packages/soupsieve/css_parser.py\u001b[0m in \u001b[0;36m_cached_css_compile\u001b[0;34m(pattern, namespaces, custom, flags)\u001b[0m\n\u001b[1;32m    202\u001b[0m     return cm.SoupSieve(\n\u001b[1;32m    203\u001b[0m         \u001b[0mpattern\u001b[0m\u001b[0;34m,\u001b[0m\u001b[0;34m\u001b[0m\u001b[0;34m\u001b[0m\u001b[0m\n\u001b[0;32m--> 204\u001b[0;31m         CSSParser(\n\u001b[0m\u001b[1;32m    205\u001b[0m             \u001b[0mpattern\u001b[0m\u001b[0;34m,\u001b[0m\u001b[0;34m\u001b[0m\u001b[0;34m\u001b[0m\u001b[0m\n\u001b[1;32m    206\u001b[0m             \u001b[0mcustom\u001b[0m\u001b[0;34m=\u001b[0m\u001b[0mcustom_selectors\u001b[0m\u001b[0;34m,\u001b[0m\u001b[0;34m\u001b[0m\u001b[0;34m\u001b[0m\u001b[0m\n",
      "\u001b[0;32m/Library/Frameworks/Python.framework/Versions/3.9/lib/python3.9/site-packages/soupsieve/css_parser.py\u001b[0m in \u001b[0;36mprocess_selectors\u001b[0;34m(self, index, flags)\u001b[0m\n\u001b[1;32m   1127\u001b[0m         \u001b[0;34m\"\"\"Process selectors.\"\"\"\u001b[0m\u001b[0;34m\u001b[0m\u001b[0;34m\u001b[0m\u001b[0m\n\u001b[1;32m   1128\u001b[0m \u001b[0;34m\u001b[0m\u001b[0m\n\u001b[0;32m-> 1129\u001b[0;31m         \u001b[0;32mreturn\u001b[0m \u001b[0mself\u001b[0m\u001b[0;34m.\u001b[0m\u001b[0mparse_selectors\u001b[0m\u001b[0;34m(\u001b[0m\u001b[0mself\u001b[0m\u001b[0;34m.\u001b[0m\u001b[0mselector_iter\u001b[0m\u001b[0;34m(\u001b[0m\u001b[0mself\u001b[0m\u001b[0;34m.\u001b[0m\u001b[0mpattern\u001b[0m\u001b[0;34m)\u001b[0m\u001b[0;34m,\u001b[0m \u001b[0mindex\u001b[0m\u001b[0;34m,\u001b[0m \u001b[0mflags\u001b[0m\u001b[0;34m)\u001b[0m\u001b[0;34m\u001b[0m\u001b[0;34m\u001b[0m\u001b[0m\n\u001b[0m\u001b[1;32m   1130\u001b[0m \u001b[0;34m\u001b[0m\u001b[0m\n\u001b[1;32m   1131\u001b[0m \u001b[0;34m\u001b[0m\u001b[0m\n",
      "\u001b[0;32m/Library/Frameworks/Python.framework/Versions/3.9/lib/python3.9/site-packages/soupsieve/css_parser.py\u001b[0m in \u001b[0;36mparse_selectors\u001b[0;34m(self, iselector, index, flags)\u001b[0m\n\u001b[1;32m    971\u001b[0m                     \u001b[0mhas_selector\u001b[0m \u001b[0;34m=\u001b[0m \u001b[0mself\u001b[0m\u001b[0;34m.\u001b[0m\u001b[0mparse_pseudo_class_custom\u001b[0m\u001b[0;34m(\u001b[0m\u001b[0msel\u001b[0m\u001b[0;34m,\u001b[0m \u001b[0mm\u001b[0m\u001b[0;34m,\u001b[0m \u001b[0mhas_selector\u001b[0m\u001b[0;34m)\u001b[0m\u001b[0;34m\u001b[0m\u001b[0;34m\u001b[0m\u001b[0m\n\u001b[1;32m    972\u001b[0m                 \u001b[0;32melif\u001b[0m \u001b[0mkey\u001b[0m \u001b[0;34m==\u001b[0m \u001b[0;34m'pseudo_class'\u001b[0m\u001b[0;34m:\u001b[0m\u001b[0;34m\u001b[0m\u001b[0;34m\u001b[0m\u001b[0m\n\u001b[0;32m--> 973\u001b[0;31m                     \u001b[0mhas_selector\u001b[0m\u001b[0;34m,\u001b[0m \u001b[0mis_html\u001b[0m \u001b[0;34m=\u001b[0m \u001b[0mself\u001b[0m\u001b[0;34m.\u001b[0m\u001b[0mparse_pseudo_class\u001b[0m\u001b[0;34m(\u001b[0m\u001b[0msel\u001b[0m\u001b[0;34m,\u001b[0m \u001b[0mm\u001b[0m\u001b[0;34m,\u001b[0m \u001b[0mhas_selector\u001b[0m\u001b[0;34m,\u001b[0m \u001b[0miselector\u001b[0m\u001b[0;34m,\u001b[0m \u001b[0mis_html\u001b[0m\u001b[0;34m)\u001b[0m\u001b[0;34m\u001b[0m\u001b[0;34m\u001b[0m\u001b[0m\n\u001b[0m\u001b[1;32m    974\u001b[0m                 \u001b[0;32melif\u001b[0m \u001b[0mkey\u001b[0m \u001b[0;34m==\u001b[0m \u001b[0;34m'pseudo_element'\u001b[0m\u001b[0;34m:\u001b[0m\u001b[0;34m\u001b[0m\u001b[0;34m\u001b[0m\u001b[0m\n\u001b[1;32m    975\u001b[0m                     \u001b[0;32mraise\u001b[0m \u001b[0mNotImplementedError\u001b[0m\u001b[0;34m(\u001b[0m\u001b[0;34mf\"Pseudo-element found at position {m.start(0)}\"\u001b[0m\u001b[0;34m)\u001b[0m\u001b[0;34m\u001b[0m\u001b[0;34m\u001b[0m\u001b[0m\n",
      "\u001b[0;32m/Library/Frameworks/Python.framework/Versions/3.9/lib/python3.9/site-packages/soupsieve/css_parser.py\u001b[0m in \u001b[0;36mparse_pseudo_class\u001b[0;34m(self, sel, m, has_selector, iselector, is_html)\u001b[0m\n\u001b[1;32m    653\u001b[0m             )\n\u001b[1;32m    654\u001b[0m         \u001b[0;32melse\u001b[0m\u001b[0;34m:\u001b[0m\u001b[0;34m\u001b[0m\u001b[0;34m\u001b[0m\u001b[0m\n\u001b[0;32m--> 655\u001b[0;31m             raise NotImplementedError(\n\u001b[0m\u001b[1;32m    656\u001b[0m                 \u001b[0;34mf\"'{pseudo}' pseudo-class is not implemented at this time\"\u001b[0m\u001b[0;34m\u001b[0m\u001b[0;34m\u001b[0m\u001b[0m\n\u001b[1;32m    657\u001b[0m             )\n",
      "\u001b[0;31mNotImplementedError\u001b[0m: ':min-w-max' pseudo-class is not implemented at this time"
     ]
    }
   ],
   "source": [
    "table = webpage.select(\"table.md-max:min-w-max w-full bg-card text-secondary screen-content\")\n",
    "columns = table.find(\"thead\").find_all(\"th\")\n",
    "column_names = [c.string for c in columns]\n",
    "table_rows = table.find(\"tbody\").find_all(\"tr\")"
   ]
  },
  {
   "cell_type": "code",
   "execution_count": null,
   "metadata": {},
   "outputs": [],
   "source": [
    "l = []\n",
    "for tr in table_rows:\n",
    "    td = tr.find_all(\"td\")\n",
    "    row = [str(tr.get_text()).strip() for tr in td]\n",
    "    l.append(row)\n",
    "\n",
    "df = pd.DataFrame(l, columns=column_names)\n",
    "df.head()"
   ]
  }
 ],
 "metadata": {
  "kernelspec": {
   "display_name": "Python 3",
   "language": "python",
   "name": "python3"
  },
  "language_info": {
   "codemirror_mode": {
    "name": "ipython",
    "version": 3
   },
   "file_extension": ".py",
   "mimetype": "text/x-python",
   "name": "python",
   "nbconvert_exporter": "python",
   "pygments_lexer": "ipython3",
   "version": "3.9.7"
  }
 },
 "nbformat": 4,
 "nbformat_minor": 2
}
